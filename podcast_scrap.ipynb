{
 "cells": [
  {
   "cell_type": "code",
   "execution_count": 140,
   "metadata": {},
   "outputs": [],
   "source": [
    "import logging\n",
    "from pathlib import Path\n",
    "\n",
    "from selenium.common.exceptions import NoSuchDriverException\n",
    "from selenium.webdriver.common.options import BaseOptions\n",
    "from selenium.webdriver.common.selenium_manager import SeleniumManager\n",
    "from selenium.webdriver.common.service import Service\n",
    "\n",
    "# 옵션을 설정하여 Chrome의 WebDriver 객체를 생성합니다.\n",
    "options = webdriver.ChromeOptions()\n",
    "options.add_argument('--headless')  # 브라우저 창이 뜨지 않는 headless 모드를 사용합니다.\n",
    "\n",
    "options = Options()\n",
    "options.binary_location = \"/Applications/Google Chrome.app\" # as per my Win10 OS box\n",
    "\n"
   ]
  },
  {
   "cell_type": "code",
   "execution_count": 141,
   "metadata": {},
   "outputs": [],
   "source": [
    "driver =DriverFinder.get_path = ('/Users/arajo/Downloads/chromedriver-mac-x64/chromedriver', BaseOptions)"
   ]
  },
  {
   "cell_type": "code",
   "execution_count": 142,
   "metadata": {},
   "outputs": [],
   "source": [
    "#open chrom and go to the podcast\n",
    "driver = webdriver.Chrome()\n",
    "driver.get(\"https://podcasts.apple.com/us/podcast/more-attention-less-deficit/id312831485\")"
   ]
  },
  {
   "cell_type": "code",
   "execution_count": 143,
   "metadata": {},
   "outputs": [],
   "source": [
    "# Initialize WebDriverWait\n",
    "wait = WebDriverWait(driver, 10)"
   ]
  },
  {
   "cell_type": "code",
   "execution_count": 144,
   "metadata": {},
   "outputs": [
    {
     "name": "stdout",
     "output_type": "stream",
     "text": [
      "Page load timed out.\n"
     ]
    }
   ],
   "source": [
    "# Loop to click through the hyperlinks\n",
    "while True:\n",
    "    try:\n",
    "        # Find the hyperlink you want to click\n",
    "        # You need to define the criteria to find the link, for example by link text:\n",
    "        link_to_click = wait.until(EC.element_to_be_clickable((By.CSS_SELECTOR, 'div[class^=\"list-button\"] button')))\n",
    "        \n",
    "        # Click the link\n",
    "        link_to_click.click()\n",
    "        \n",
    "        \n",
    "    \n",
    "    except TimeoutException:\n",
    "        # Handle the case where the page didn't load in time\n",
    "        print(\"Page load timed out.\")\n",
    "        break"
   ]
  },
  {
   "cell_type": "code",
   "execution_count": 145,
   "metadata": {},
   "outputs": [
    {
     "data": {
      "text/plain": [
       "97"
      ]
     },
     "execution_count": 145,
     "metadata": {},
     "output_type": "execute_result"
    }
   ],
   "source": [
    "# Wait for the presence of all elements that match the CSS selector and retrieve them\n",
    "links = wait.until(EC.presence_of_all_elements_located((By.CSS_SELECTOR, 'a[href^=\"https://podcasts.apple.com/us/podcast/\"]')))\n",
    "\n",
    "# Now you can iterate over the links and perform actions\n",
    "for link in links:\n",
    "    href = link.get_attribute('href')\n",
    "    # You can now use href or link.text or perform any action with the link element\n",
    "    #print(href)\n",
    "    \n",
    "len(href)"
   ]
  },
  {
   "cell_type": "code",
   "execution_count": 146,
   "metadata": {},
   "outputs": [],
   "source": [
    "# 에피소드 링크들을 저장할 리스트입니다.\n",
    "episode_links = [link.get_attribute('href') for link in links]\n"
   ]
  },
  {
   "cell_type": "code",
   "execution_count": 150,
   "metadata": {},
   "outputs": [
    {
     "name": "stdout",
     "output_type": "stream",
     "text": [
      "['https://podcasts.apple.com/us/podcast/create-good-luck/id312831485?i=1000319074633', 'https://podcasts.apple.com/us/podcast/fear-of-failure/id312831485?i=1000314567588', 'https://podcasts.apple.com/us/podcast/interview-with-comedian-dave-kinney/id312831485?i=1000269734136', 'https://podcasts.apple.com/us/podcast/the-importance-of-paying-attention-to-sex/id312831485?i=1000256576129', 'https://podcasts.apple.com/us/podcast/the-crucial-difference-between-facts-and-opinions/id312831485?i=1000236728710', 'https://podcasts.apple.com/us/podcast/awareness-honesty-and-willingness-the-three-keys/id312831485?i=1000160761940', 'https://podcasts.apple.com/us/podcast/neurology-matters-but-psychology-matters-more/id312831485?i=1000138033214', 'https://podcasts.apple.com/us/podcast/the-real-lessons-learned-from-the-chadd-conference/id312831485?i=1000124931105', 'https://podcasts.apple.com/us/podcast/complex-problems-require-sophisticated-thinking/id312831485?i=1000122954229', 'https://podcasts.apple.com/us/podcast/a-guy-walks-into-a-chadd-conference-and-so-should-you/id312831485?i=1000120817792', 'https://podcasts.apple.com/us/podcast/good-ideas-are-just-good-ideas/id312831485?i=1000119897447', 'https://podcasts.apple.com/us/podcast/episode-100-gratitude/id312831485?i=1000111201722', 'https://podcasts.apple.com/us/podcast/earn-more-free-passes/id312831485?i=1000110379945', 'https://podcasts.apple.com/us/podcast/youd-have-to-be-crazy-to-not-feel-crazy/id312831485?i=1000109289755', 'https://podcasts.apple.com/us/podcast/improve-your-mental-stamina-the-chocolate-chip-cookie/id312831485?i=1000108264567', 'https://podcasts.apple.com/us/podcast/change-more-pieces-to-turn-the-momentum/id312831485?i=1000104324321', 'https://podcasts.apple.com/us/podcast/the-vice-episode/id312831485?i=1000102383808', 'https://podcasts.apple.com/us/podcast/interview-with-jennifer-koretsky-virtual-adhd-conference/id312831485?i=1000097246325', 'https://podcasts.apple.com/us/podcast/be-willing-to-let-it-be-a-process/id312831485?i=1000094025333', 'https://podcasts.apple.com/us/podcast/what-are-your-favorite-lies/id312831485?i=1000093701470', 'https://podcasts.apple.com/us/podcast/small-slips-big-problems-small-changes-big-benefits/id312831485?i=1000093139248', 'https://podcasts.apple.com/us/podcast/does-treatment-give-you-greater-free-will/id312831485?i=1000092638396', 'https://podcasts.apple.com/us/podcast/adhd-is-depressing-but-it-doesnt-have-to-be/id312831485?i=1000092235565', 'https://podcasts.apple.com/us/podcast/the-psychology-of-medication/id312831485?i=1000091850169', 'https://podcasts.apple.com/us/podcast/is-it-your-adhd-or-you/id312831485?i=1000091346508', 'https://podcasts.apple.com/us/podcast/living-well-is-the-best-revenge/id312831485?i=1000091025537', 'https://podcasts.apple.com/us/podcast/the-curse-of-potential/id312831485?i=1000090530860', 'https://podcasts.apple.com/us/podcast/adhd-needs-some-new-names/id312831485?i=1000090217769', 'https://podcasts.apple.com/us/podcast/its-not-all-your-fault/id312831485?i=1000089885217', 'https://podcasts.apple.com/us/podcast/less-vs-more-find-the-best-balance/id312831485?i=1000089653376', 'https://podcasts.apple.com/us/podcast/a-happy-relationship-in-twelve-jokes-or-less/id312831485?i=1000088477892', 'https://podcasts.apple.com/us/podcast/acting-with-integrity-is-an-inside-job/id312831485?i=1000088121689', 'https://podcasts.apple.com/us/podcast/a-century-of-adhd-were-finally-getting-it-right/id312831485?i=1000087940391', 'https://podcasts.apple.com/us/podcast/is-adhd-the-same-in-men-and-women-pretty-much/id312831485?i=1000087613450', 'https://podcasts.apple.com/us/podcast/a-happy-relationship-in-five-jokes-or-less/id312831485?i=1000087360733', 'https://podcasts.apple.com/us/podcast/should-you-take-your-meds-every-day/id312831485?i=1000086983458', 'https://podcasts.apple.com/us/podcast/adhd-awareness-week-be-a-part-of-it/id312831485?i=1000086662063', 'https://podcasts.apple.com/us/podcast/making-the-most-of-educational-opportunities/id312831485?i=1000086399627', 'https://podcasts.apple.com/us/podcast/why-i-hate-twitter-and-other-constant-intruders/id312831485?i=1000089799558', 'https://podcasts.apple.com/us/podcast/is-the-economy-making-your-adhd-worse/id312831485?i=1000089799575', 'https://podcasts.apple.com/us/podcast/change-what-you-can-accept-the-rest/id312831485?i=1000089799560', 'https://podcasts.apple.com/us/podcast/take-your-adhd-seriously/id312831485?i=1000089799585', 'https://podcasts.apple.com/us/podcast/professional-organizers-move-that-mountain/id312831485?i=1000089799562', 'https://podcasts.apple.com/us/podcast/is-the-problem-adhd-or-motivation/id312831485?i=1000089799594', 'https://podcasts.apple.com/us/podcast/the-magic-threshold-a-little-can-mean-a-lot/id312831485?i=1000089799592', 'https://podcasts.apple.com/us/podcast/the-importance-of-getting-it/id312831485?i=1000089799582', 'https://podcasts.apple.com/us/podcast/adhd-is-real-but-how-real/id312831485?i=1000089799566', 'https://podcasts.apple.com/us/podcast/the-moment-that-matters-remember-the-right-thing-at/id312831485?i=1000089799595', 'https://podcasts.apple.com/us/podcast/roll-back-anxiety-and-depression/id312831485?i=1000089799574', 'https://podcasts.apple.com/us/podcast/is-it-you-or-your-adhd/id312831485?i=1000089799569', 'https://podcasts.apple.com/us/podcast/manage-excessive-substance-use-and-other-addictive/id312831485?i=1000089799564', 'https://podcasts.apple.com/us/podcast/true-intimacy-means-hearing-the-bad-news-too/id312831485?i=1000089799571', 'https://podcasts.apple.com/us/podcast/restore-balance-in-the-relationship-pt-ii/id312831485?i=1000089799593', 'https://podcasts.apple.com/us/podcast/restore-balance-in-the-relationship-pt-i/id312831485?i=1000089799561', 'https://podcasts.apple.com/us/podcast/we-see-others-through-our-own-lens/id312831485?i=1000089799556', 'https://podcasts.apple.com/us/podcast/fundamental-strategies-to-overcome-impulsivity-and/id312831485?i=1000089799557', 'https://podcasts.apple.com/us/podcast/fundamental-strategies-to-overcome-inattention/id312831485?i=1000089799559', 'https://podcasts.apple.com/us/podcast/is-adhd-an-excuse-or-an-explanation/id312831485?i=1000089799565', 'https://podcasts.apple.com/us/podcast/adhd-is-bigger-than-good-intentions/id312831485?i=1000089799581', 'https://podcasts.apple.com/us/podcast/this-is-important-stuff/id312831485?i=1000089799589', 'https://podcasts.apple.com/us/podcast/brain-scans-not-enough-science-too-much-fiction/id312831485?i=1000089799591', 'https://podcasts.apple.com/us/podcast/proposed-changes-to-the-diagnostic-criteria-actually/id312831485?i=1000089799555', 'https://podcasts.apple.com/us/podcast/how-much-medication-should-i-take-finding-the-right-dose/id312831485?i=1000089799578', 'https://podcasts.apple.com/us/podcast/potential-medication-benefits-somewhere-between-placebo/id312831485?i=1000089799586', 'https://podcasts.apple.com/us/podcast/to-take-medication-or-not-to-take-medication-it-depends/id312831485?i=1000089799587', 'https://podcasts.apple.com/us/podcast/two-tools-to-stop-the-flood/id312831485?i=1000089799583', 'https://podcasts.apple.com/us/podcast/stop-the-flood-conquer-information-overload/id312831485?i=1000089799563', 'https://podcasts.apple.com/us/podcast/the-right-tool-for-the-job-using-technology-for-good-not-evil/id312831485?i=1000089799573', 'https://podcasts.apple.com/us/podcast/the-relief-of-being-diagnosed-wow-that-explains-a-lot/id312831485?i=1000089799567', 'https://podcasts.apple.com/us/podcast/nontraditional-treatments-separate-the-wheat-from/id312831485?i=1000089799580', 'https://podcasts.apple.com/us/podcast/why-is-it-so-hard-to-get-and-stay-organized/id312831485?i=1000089799588', 'https://podcasts.apple.com/us/podcast/set-yourself-up-for-success/id312831485?i=1000089799568', 'https://podcasts.apple.com/us/podcast/adhd-is-real-but-not-everyone-has-it/id312831485?i=1000089799577', 'https://podcasts.apple.com/us/podcast/stay-in-the-budget-we-have-a-budget/id312831485?i=1000089799584', 'https://podcasts.apple.com/us/podcast/whats-the-difference-between-coaching-and-therapy/id312831485?i=1000089799570', 'https://podcasts.apple.com/us/podcast/what-causes-adhd-and-what-doesnt/id312831485?i=1000089799590', 'https://podcasts.apple.com/us/podcast/thanksgiving-adhd-stressful/id312831485?i=1000089799579', 'https://podcasts.apple.com/us/podcast/procrastination-research/id312831485?i=1000090094928', 'https://podcasts.apple.com/us/podcast/manage-the-mail-and-get-the-bills-out-on-time/id312831485?i=1000090094935', 'https://podcasts.apple.com/us/podcast/actually-get-a-good-nights-sleep/id312831485?i=1000090094943', 'https://podcasts.apple.com/us/podcast/create-a-lifestyle-you-can-live-with/id312831485?i=1000090094946', 'https://podcasts.apple.com/us/podcast/the-value-of-a-good-apology/id312831485?i=1000090094950', 'https://podcasts.apple.com/us/podcast/expectation-management-promise-only-what-you-can-deliver/id312831485?i=1000090094948', 'https://podcasts.apple.com/us/podcast/adhd-and-the-evolving-personality/id312831485?i=1000090094960', 'https://podcasts.apple.com/us/podcast/knowing-is-easy-doing-is-hard/id312831485?i=1000090094937', 'https://podcasts.apple.com/us/podcast/adversity-makes-you-stronger-hopefully/id312831485?i=1000090094931', 'https://podcasts.apple.com/us/podcast/build-healthy-self-esteem/id312831485?i=1000090094938', 'https://podcasts.apple.com/us/podcast/is-adhd-a-gift/id312831485?i=1000090094933', 'https://podcasts.apple.com/us/podcast/always-moving-forward/id312831485?i=1000090094929', 'https://podcasts.apple.com/us/podcast/how-to-get-help-when-you-need-it-for-you-or-someone-else/id312831485?i=1000090094942', 'https://podcasts.apple.com/us/podcast/find-a-job-and-career-that-you-can-enjoy-and-maybe/id312831485?i=1000090094957', 'https://podcasts.apple.com/us/podcast/adhd-depression-virtual-adhd-conference-interview/id312831485?i=1000090094934', 'https://podcasts.apple.com/us/podcast/can-i-trust-myself/id312831485?i=1000090094945', 'https://podcasts.apple.com/us/podcast/get-the-most-out-of-therapy/id312831485?i=1000090094939', 'https://podcasts.apple.com/us/podcast/talk-it-out-therapy-can-offer-clarity-and-peace/id312831485?i=1000090094932', 'https://podcasts.apple.com/us/podcast/rewrite-history-understand-your-past-and-yourself-in/id312831485?i=1000090094962', 'https://podcasts.apple.com/us/podcast/fully-accepting-the-diagnosis/id312831485?i=1000090094955', 'https://podcasts.apple.com/us/podcast/the-four-stages-of-adjustment-to-a-new-diagnosis/id312831485?i=1000090094951', 'https://podcasts.apple.com/us/podcast/missed-diagnoses-why-did-it-take-me-so-long-to-be-correctly/id312831485?i=1000090094944', 'https://podcasts.apple.com/us/podcast/whats-in-a-name-attention-deficit-or-deficit-in/id312831485?i=1000090094961', 'https://podcasts.apple.com/us/podcast/hindsight-and-forethought-using-the-past-and-future/id312831485?i=1000090094941', 'https://podcasts.apple.com/us/podcast/persistence-of-effort-the-little-engine-that/id312831485?i=1000090094963', 'https://podcasts.apple.com/us/podcast/self-activation-getting-that-heavy-ball-rolling/id312831485?i=1000090094940', 'https://podcasts.apple.com/us/podcast/emotional-self-control-having-feelings-without-acting/id312831485?i=1000090094947', 'https://podcasts.apple.com/us/podcast/remembering-to-remember-its-all-about-timing/id312831485?i=1000090094936', 'https://podcasts.apple.com/us/podcast/sense-of-time-it-cant-be-5-00-already/id312831485?i=1000090094959', 'https://podcasts.apple.com/us/podcast/working-memory-the-brains-ram/id312831485?i=1000090094958', 'https://podcasts.apple.com/us/podcast/response-inhibition-it-starts-with-stopping/id312831485?i=1000090094930', 'https://podcasts.apple.com/us/podcast/executive-functioning-whos-calling-the-shots-around/id312831485?i=1000090094949', 'https://podcasts.apple.com/us/podcast/announcement-welcome-to-the-site-the-podcast-and-the-books/id312831485?i=1000053709041', 'https://podcasts.apple.com/us/podcast/to-tell-or-not-to-tell/id312831485?i=1000090094956', 'https://podcasts.apple.com/us/podcast/huberman-lab/id1545953110', 'https://podcasts.apple.com/us/podcast/the-school-of-greatness/id596047499', 'https://podcasts.apple.com/us/podcast/on-purpose-with-jay-shetty/id1450994021', 'https://podcasts.apple.com/us/podcast/ten-percent-happier-with-dan-harris/id1087147821', 'https://podcasts.apple.com/us/podcast/the-peter-attia-drive/id1400828889', 'https://podcasts.apple.com/us/podcast/the-dr-john-delony-show/id1527609854', 'https://podcasts.apple.com/us/podcast/taking-control-the-adhd-podcast/id368426151', 'https://podcasts.apple.com/us/podcast/adhd-experts-podcast/id668174671', 'https://podcasts.apple.com/us/podcast/hacking-your-adhd/id1481135244', 'https://podcasts.apple.com/us/podcast/i-have-adhd-podcast/id1446874607', 'https://podcasts.apple.com/us/podcast/adult-adhd-add-tips-and-support/id988935339', 'https://podcasts.apple.com/us/podcast/overcoming-distractions-thriving-with-adhd-add/id1150056233']\n"
     ]
    }
   ],
   "source": [
    "print(episode_links)"
   ]
  },
  {
   "cell_type": "code",
   "execution_count": null,
   "metadata": {},
   "outputs": [],
   "source": [
    "# # 에피소드 제목들을 저장할 리스트입니다.\n",
    "# episode_titles = []\n",
    "\n",
    "# # 각 링크로 이동하여 에피소드 제목을 추출합니다.\n",
    "# for link in episode_links:\n",
    "#     try:\n",
    "#         # 각 에피소드 페이지로 이동합니다.\n",
    "#         driver.get(link)\n",
    "        \n",
    "#         # 제목이 로드될 때까지 대기합니다.\n",
    "#         title_element = wait.until(EC.presence_of_all_elements_located((By.CSS_SELECTOR, 'span[class^=\"product-header__title\"]')))\n",
    "        \n",
    "#         # 제목을 추출하여 리스트에 추가합니다.\n",
    "#         episode_titles.append(title_element)\n",
    "#     except TimeoutException:\n",
    "#         #print(f\"Failed to load the title from {link}\")\n",
    "#         break\n",
    "# # 웹 드라이버를 종료합니다.\n",
    "# #driver.quit()\n",
    "\n",
    "# # 에피소드 제목을 출력합니다.\n",
    "# #for title in episode_titles:\n",
    "# #    print(title)\n"
   ]
  },
  {
   "cell_type": "code",
   "execution_count": 148,
   "metadata": {},
   "outputs": [
    {
     "data": {
      "text/plain": [
       "57"
      ]
     },
     "execution_count": 148,
     "metadata": {},
     "output_type": "execute_result"
    }
   ],
   "source": [
    "# len(episode_titles)"
   ]
  }
 ],
 "metadata": {
  "kernelspec": {
   "display_name": "Python 3",
   "language": "python",
   "name": "python3"
  },
  "language_info": {
   "codemirror_mode": {
    "name": "ipython",
    "version": 3
   },
   "file_extension": ".py",
   "mimetype": "text/x-python",
   "name": "python",
   "nbconvert_exporter": "python",
   "pygments_lexer": "ipython3",
   "version": "3.12.0"
  }
 },
 "nbformat": 4,
 "nbformat_minor": 2
}
